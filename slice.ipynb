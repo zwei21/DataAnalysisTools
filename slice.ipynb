{
 "cells": [
  {
   "cell_type": "code",
   "execution_count": 1,
   "metadata": {},
   "outputs": [],
   "source": [
    "import os\n",
    "def getName(path):\n",
    "    return os.listdir(path)\n",
    "    "
   ]
  },
  {
   "cell_type": "markdown",
   "metadata": {},
   "source": [
    "## Process Dukascopy names"
   ]
  },
  {
   "cell_type": "code",
   "execution_count": 2,
   "metadata": {},
   "outputs": [
    {
     "name": "stdout",
     "output_type": "stream",
     "text": [
      "['EURJPY_Ticks_10.10.2022-10.10.2022.csv', 'EURJPY_Ticks_02.10.2022-02.10.2022.csv', '.DS_Store', 'EURJPY_Ticks_04.10.2022-04.10.2022.csv', 'EURJPY_Ticks_01.10.2022-01.10.2022.csv', 'EURJPY_Ticks_07.10.2022-07.10.2022.csv', 'EURJPY_Ticks_08.10.2022-08.10.2022.csv', 'EURJPY_Ticks_09.10.2022-09.10.2022.csv', 'EURJPY_Ticks_06.10.2022-06.10.2022.csv', 'EURJPY_Ticks_03.10.2022-03.10.2022.csv', 'EURJPY_Ticks_05.10.2022-05.10.2022.csv']\n"
     ]
    }
   ],
   "source": [
    "file_names = getName(\"Data\")\n",
    "print(file_names)"
   ]
  },
  {
   "cell_type": "code",
   "execution_count": 12,
   "metadata": {},
   "outputs": [],
   "source": [
    "import re\n",
    "def match_date_dukas(text):\n",
    "    '''正则表达式提取文本所有日期\n",
    "\n",
    "    :param text: 待检索文本\n",
    "\n",
    "    >>> match_date_dukas('日期是10.10.2022')\n",
    "    ['10.10.2022']\n",
    "    '''\n",
    "    pattern = r'(_\\d{2}.\\d{2}.\\d{4})'\n",
    "    pattern = re.compile(pattern)\n",
    "    result = pattern.findall(text)\n",
    "    if result:\n",
    "        return result[0][1:]\n",
    "    else: # Empty Value, no matched pattern \n",
    "        return None\n"
   ]
  },
  {
   "cell_type": "code",
   "execution_count": 14,
   "metadata": {},
   "outputs": [],
   "source": [
    "match_date_dukas(file_names[2])"
   ]
  },
  {
   "cell_type": "code",
   "execution_count": 4,
   "metadata": {},
   "outputs": [
    {
     "name": "stdout",
     "output_type": "stream",
     "text": [
      "02.10.2022\n"
     ]
    }
   ],
   "source": [
    "date1 = match_date_dukas(file_names[1])\n",
    "print(date1)"
   ]
  },
  {
   "cell_type": "code",
   "execution_count": 20,
   "metadata": {},
   "outputs": [
    {
     "data": {
      "text/plain": [
       "datetime.datetime(2022, 10, 2, 0, 0)"
      ]
     },
     "execution_count": 20,
     "metadata": {},
     "output_type": "execute_result"
    }
   ],
   "source": [
    "from datetime import datetime\n",
    "def trans_time_dukas(filename):\n",
    "    return datetime.strptime(filename, '%d.%m.%Y')\n",
    "    \n",
    "trans_time_dukas(date1)"
   ]
  },
  {
   "cell_type": "code",
   "execution_count": 25,
   "metadata": {},
   "outputs": [
    {
     "name": "stdout",
     "output_type": "stream",
     "text": [
      "CPU times: user 2 µs, sys: 1e+03 ns, total: 3 µs\n",
      "Wall time: 4.05 µs\n"
     ]
    },
    {
     "data": {
      "text/plain": [
       "[datetime.datetime(2022, 10, 1, 0, 0),\n",
       " datetime.datetime(2022, 10, 2, 0, 0),\n",
       " datetime.datetime(2022, 10, 3, 0, 0),\n",
       " datetime.datetime(2022, 10, 4, 0, 0),\n",
       " datetime.datetime(2022, 10, 5, 0, 0),\n",
       " datetime.datetime(2022, 10, 6, 0, 0),\n",
       " datetime.datetime(2022, 10, 7, 0, 0),\n",
       " datetime.datetime(2022, 10, 8, 0, 0),\n",
       " datetime.datetime(2022, 10, 9, 0, 0),\n",
       " datetime.datetime(2022, 10, 10, 0, 0)]"
      ]
     },
     "execution_count": 25,
     "metadata": {},
     "output_type": "execute_result"
    }
   ],
   "source": [
    "\"\"\"\n",
    "Efficiency Test\n",
    "\"\"\"\n",
    "%time\n",
    "def get_dukas_dates(path=\"Data\"):\n",
    "    file_names = file_names = getName(path)\n",
    "    dukas_dates = []\n",
    "    for filename in file_names:\n",
    "        date = match_date_dukas(filename)\n",
    "        #print(date)\n",
    "        if date:\n",
    "            dukas_dates.append(trans_time_dukas(date))\n",
    "        else:\n",
    "            continue\n",
    "    return sorted(dukas_dates)\n",
    "\n",
    "get_dukas_dates(\"Data\")"
   ]
  },
  {
   "cell_type": "code",
   "execution_count": null,
   "metadata": {},
   "outputs": [],
   "source": []
  }
 ],
 "metadata": {
  "kernelspec": {
   "display_name": "Python 3.8.8 ('base': conda)",
   "language": "python",
   "name": "python3"
  },
  "language_info": {
   "codemirror_mode": {
    "name": "ipython",
    "version": 3
   },
   "file_extension": ".py",
   "mimetype": "text/x-python",
   "name": "python",
   "nbconvert_exporter": "python",
   "pygments_lexer": "ipython3",
   "version": "3.8.8"
  },
  "orig_nbformat": 4,
  "vscode": {
   "interpreter": {
    "hash": "fd5f5f84e59910c5f7d4089c607dd90582167b3294b9e561d008852cbc43b1dd"
   }
  }
 },
 "nbformat": 4,
 "nbformat_minor": 2
}
